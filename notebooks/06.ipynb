{
 "cells": [
  {
   "cell_type": "code",
   "execution_count": null,
   "id": "99cee4c3-50b9-4386-95a3-7690a2b2fdc7",
   "metadata": {},
   "outputs": [],
   "source": [
    "from pydub import AudioSegment\n",
    "import os\n",
    "\n",
    "# === Paths ===\n",
    "office_path = \"../data/segments/office/esegment_356.wav\"\n",
    "nature_path = \"../features/nature/nature-5/segment-1618.wav\"\n",
    "output_path = \"../data/processed/segment_356_overlayed.wav\"\n",
    "\n",
    "# === Load Audio ===\n",
    "office_audio = AudioSegment.from_wav(office_path)\n",
    "nature_audio = AudioSegment.from_wav(nature_path)\n",
    "\n",
    "# === Preprocessing: Match durations ===\n",
    "# Trim or loop nature audio to match office audio length\n",
    "if len(nature_audio) < len(office_audio):\n",
    "    repeat_count = (len(office_audio) // len(nature_audio)) + 1\n",
    "    nature_audio = (nature_audio * repeat_count)[:len(office_audio)]\n",
    "else:\n",
    "    nature_audio = nature_audio[:len(office_audio)]\n",
    "\n",
    "# === Reduce nature audio volume ===\n",
    "nature_audio = nature_audio - 10  # lower by 10 dB\n",
    "\n",
    "# === Optional: Apply a low-pass filter to nature audio (if too sharp) ===\n",
    "# from pydub.effects import low_pass_filter\n",
    "# nature_audio = low_pass_filter(nature_audio, cutoff=4000)\n",
    "\n",
    "# === Overlay audio ===\n",
    "blended = office_audio.overlay(nature_audio)\n",
    "\n",
    "# === Export result ===\n",
    "blended.export(output_path, format=\"wav\")\n",
    "print(f\"✅ Overlay exported to: {output_path}\")\n"
   ]
  }
 ],
 "metadata": {
  "kernelspec": {
   "display_name": "venv",
   "language": "python",
   "name": "venv"
  },
  "language_info": {
   "codemirror_mode": {
    "name": "ipython",
    "version": 3
   },
   "file_extension": ".py",
   "mimetype": "text/x-python",
   "name": "python",
   "nbconvert_exporter": "python",
   "pygments_lexer": "ipython3",
   "version": "3.13.1"
  }
 },
 "nbformat": 4,
 "nbformat_minor": 5
}
